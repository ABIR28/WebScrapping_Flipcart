{
 "cells": [
  {
   "cell_type": "markdown",
   "metadata": {},
   "source": [
    "# Web Scrapping\n"
   ]
  },
  {
   "cell_type": "code",
   "execution_count": 3,
   "metadata": {},
   "outputs": [
    {
     "name": "stdout",
     "output_type": "stream",
     "text": [
      "Requirement already satisfied: autoscraper in c:\\users\\user\\anaconda3\\lib\\site-packages (1.1.12)\n",
      "Requirement already satisfied: bs4 in c:\\users\\user\\anaconda3\\lib\\site-packages (from autoscraper) (0.0.1)\n",
      "Requirement already satisfied: lxml in c:\\users\\user\\anaconda3\\lib\\site-packages (from autoscraper) (4.6.1)\n",
      "Requirement already satisfied: requests in c:\\users\\user\\anaconda3\\lib\\site-packages (from autoscraper) (2.24.0)\n",
      "Requirement already satisfied: beautifulsoup4 in c:\\users\\user\\anaconda3\\lib\\site-packages (from bs4->autoscraper) (4.9.3)\n",
      "Requirement already satisfied: idna<3,>=2.5 in c:\\users\\user\\anaconda3\\lib\\site-packages (from requests->autoscraper) (2.10)\n",
      "Requirement already satisfied: chardet<4,>=3.0.2 in c:\\users\\user\\anaconda3\\lib\\site-packages (from requests->autoscraper) (3.0.4)\n",
      "Requirement already satisfied: urllib3!=1.25.0,!=1.25.1,<1.26,>=1.21.1 in c:\\users\\user\\anaconda3\\lib\\site-packages (from requests->autoscraper) (1.25.11)\n",
      "Requirement already satisfied: certifi>=2017.4.17 in c:\\users\\user\\anaconda3\\lib\\site-packages (from requests->autoscraper) (2020.6.20)\n",
      "Requirement already satisfied: soupsieve>1.2; python_version >= \"3.0\" in c:\\users\\user\\anaconda3\\lib\\site-packages (from beautifulsoup4->bs4->autoscraper) (2.0.1)\n"
     ]
    }
   ],
   "source": [
    "!pip install autoscraper"
   ]
  },
  {
   "cell_type": "code",
   "execution_count": 4,
   "metadata": {},
   "outputs": [],
   "source": [
    "from autoscraper import AutoScraper"
   ]
  },
  {
   "cell_type": "code",
   "execution_count": 5,
   "metadata": {},
   "outputs": [],
   "source": [
    "flipcart_url = \"https://www.flipkart.com/search?q=headphones\"\n",
    "wanted_product = [\"₹1,999\",\"Boult Audio AirBass Livebuds Bluetooth Headset\",\"3,254\"]"
   ]
  },
  {
   "cell_type": "code",
   "execution_count": 8,
   "metadata": {},
   "outputs": [
    {
     "name": "stdout",
     "output_type": "stream",
     "text": [
      "['₹5,999', '₹8,999', '₹2,190', '₹799', '₹2,990', '₹2,499', '₹3,999', '₹1,490', '₹2,490', '₹999', '₹6,990', '₹2,848', '₹1,999', '₹3,990', '₹3,499', '₹1,290', '₹5,990', '₹2,199', '₹699', '₹599', '₹1,199', '₹1,299', '₹1,599', '₹1,499', '₹499', '₹299', '₹2,999', '₹465', '₹399', '₹539', '₹899', '₹397', '₹225', '₹1,198', '₹1,794', '₹375', '₹319', 'boAt Airdopes 431 Bluetooth Headset', 'Boult Audio AirBass Livebuds Bluetooth Headset', 'OnePlus Bullets Wireless Z Bluetooth Headset', 'OnePlus Bullets Wireless Z Bass Edition Bluetooth Heads...', 'realme Buds 2 Wired Headset', 'boAt Rockerz 235v2 with ASAP charging Version 5.0 Bluet...', 'boAt Rockerz 255F Bluetooth Headset', 'realme Buds Q Bluetooth Headset', 'Truke Buds S1 with Environmental Noise Cancellation(ENC...', 'boAt Bassheads 242 Wired Headset', 'boAt BassHeads 900 Wired Headset', 'Boult Audio Bassbuds X1 Wired Headset', 'boAt Airdopes 641 Bluetooth Headset', 'N2B MAGNET-K1-I7 Pack of 3 Bluetooth Bluetooth Headset', 'boAt BassHeads 100 Wired Headset', 'U&I Titanic Series - Low Price Bluetooth Neckband Bluet...', 'realme Buds Wireless Bluetooth Headset', 'boAt BassHeads 220 Wired Headset', 'boAt Rockerz 335 Bluetooth Headset', 'boAt Airdopes 131 / Airdopes 138 Bluetooth Headset', 'WeCool Moonwalk Mini in Ear True Wireless Bluetooth Ear...', 'boAt Rockerz 255F Pro with Fast Charging Bluetooth Head...', 'boAt Bassheads 103 Blue Wired Headset', 'Oxhox Magnetic Bluetooth Headset with Mic Bluetooth Hea...', 'boAt Rockerz 235v2 Bluetooth Headset', 'boAt Airdopes 402 Bluetooth Headset', 'WeCool M-M1 in Ear True Wireless Bluetooth Earbuds with...', 'Boult Audio Bass Bud Q2 Wired Headset', 'boAt Bassheads 103 Black Wired Headset', 'Czech Sports Stereo Headphones Bluetooth Headset', 'realme Buds Classic RMA2001 Wired Earphones with HD Mic...', 'FPX Metallica In Ear Wireless Neckband 15Hr Playtime Sw...', 'OnePlus Bullets Wireless Z Bass Edition Bluetooth Headset', 'boAt Rockerz 235v2 with ASAP charging Version 5.0 Bluetooth Headset', 'Truke Buds S1 with Environmental Noise Cancellation(ENC) Bluetooth Headset', 'U&I Titanic Series - Low Price Bluetooth Neckband Bluetooth Headset', 'WeCool Moonwalk Mini in Ear True Wireless Bluetooth Earbuds with mic Bluetooth Headset', 'boAt Rockerz 255F Pro with Fast Charging Bluetooth Headset', 'Oxhox Magnetic Bluetooth Headset with Mic Bluetooth Headset', 'WeCool M-M1 in Ear True Wireless Bluetooth Earbuds with mic Bluetooth Headset', 'realme Buds Classic RMA2001 Wired Earphones with HD Microphone Wired Headset', 'FPX Metallica In Ear Wireless Neckband 15Hr Playtime Sweat resistant Bluetooth Headset']\n"
     ]
    }
   ],
   "source": [
    "scraper = AutoScraper()\n",
    "result = scraper.build(flipcart_url,wanted_product)\n",
    "print(result)"
   ]
  },
  {
   "cell_type": "code",
   "execution_count": 6,
   "metadata": {},
   "outputs": [
    {
     "name": "stdout",
     "output_type": "stream",
     "text": [
      "Collecting psycopg2\n",
      "  Downloading psycopg2-2.8.6-cp38-cp38-win_amd64.whl (1.1 MB)\n",
      "Installing collected packages: psycopg2\n",
      "Note: you may need to restart the kernel to use updated packages.Successfully installed psycopg2-2.8.6\n",
      "\n"
     ]
    }
   ],
   "source": [
    "pip install psycopg2"
   ]
  },
  {
   "cell_type": "code",
   "execution_count": 2,
   "metadata": {},
   "outputs": [],
   "source": [
    "import psycopg2"
   ]
  },
  {
   "cell_type": "code",
   "execution_count": null,
   "metadata": {},
   "outputs": [],
   "source": []
  },
  {
   "cell_type": "code",
   "execution_count": null,
   "metadata": {},
   "outputs": [],
   "source": []
  },
  {
   "cell_type": "code",
   "execution_count": null,
   "metadata": {},
   "outputs": [],
   "source": []
  },
  {
   "cell_type": "code",
   "execution_count": null,
   "metadata": {},
   "outputs": [],
   "source": []
  },
  {
   "cell_type": "code",
   "execution_count": null,
   "metadata": {},
   "outputs": [],
   "source": []
  },
  {
   "cell_type": "code",
   "execution_count": null,
   "metadata": {},
   "outputs": [],
   "source": []
  },
  {
   "cell_type": "code",
   "execution_count": null,
   "metadata": {},
   "outputs": [],
   "source": []
  },
  {
   "cell_type": "code",
   "execution_count": null,
   "metadata": {},
   "outputs": [],
   "source": []
  }
 ],
 "metadata": {
  "kernelspec": {
   "display_name": "Python 3",
   "language": "python",
   "name": "python3"
  },
  "language_info": {
   "codemirror_mode": {
    "name": "ipython",
    "version": 3
   },
   "file_extension": ".py",
   "mimetype": "text/x-python",
   "name": "python",
   "nbconvert_exporter": "python",
   "pygments_lexer": "ipython3",
   "version": "3.8.5"
  }
 },
 "nbformat": 4,
 "nbformat_minor": 4
}
